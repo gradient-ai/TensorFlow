{
 "cells": [
  {
   "cell_type": "markdown",
   "metadata": {
    "gradient": {
     "editing": false,
     "id": "74b0c5e1-6592-4d69-8337-ce72ccbfc84f",
     "kernelId": "4ec6f3b2-2cb0-4819-a113-54a829d000d3"
    },
    "id": "3wF5wszaj97Y"
   },
   "source": [
    "# Paperspace Gradient: TensorFlow 2 Quick Start for Advanced Users\n",
    "Last modified: June 3rd 2022"
   ]
  },
  {
   "cell_type": "markdown",
   "metadata": {
    "gradient": {
     "editing": false,
     "id": "dd48ca28-01e9-4c36-9636-e4ec07f88c58",
     "kernelId": "4ec6f3b2-2cb0-4819-a113-54a829d000d3"
    }
   },
   "source": [
    "## Purpose and intended audience\n",
    "\n",
    "This Quick Start tutorial demonstrates TensorFlow 2 usage in a Gradient Notebook. It is aimed at users who are already familiar with TensorFlow and Python programming.\n",
    "\n",
    "For newer users who are less familiar with TensorFlow and want a simpler overview of a model being built on Gradient, see the Quick Start for Beginners notebook, `quick_start_beginner.ipynb`.\n",
    "\n",
    "We use [Keras](https://www.tensorflow.org/guide/keras/overview) within TensorFlow to:\n",
    "\n",
    "- Build a neural network that classifies images\n",
    "- Train this neural network\n",
    "- And, finally, evaluate the accuracy of the model\n",
    "\n",
    "followed by some next steps that you can take to proceed with using Gradient.\n",
    "\n",
    "The material is based on the original [TensorFlow 2 Advanced Quick Start](https://www.tensorflow.org/tutorials/quickstart/advanced).\n",
    "\n",
    "See the end of the notebook for the original copyright notice and license."
   ]
  },
  {
   "cell_type": "markdown",
   "metadata": {
    "gradient": {
     "editing": false,
     "id": "78598b75-0683-4582-97f7-c50eb47fec54",
     "kernelId": "4ec6f3b2-2cb0-4819-a113-54a829d000d3"
    }
   },
   "source": [
    "## Check that you are on a GPU instance\n",
    "\n",
    "The notebook is designed to run on a Gradient GPU instance (as opposed to a CPU-only instance). The instance type, e.g., A4000, can be seen by clicking on the instance icon on the left-hand navigation bar in the Gradient Notebook interface. It will say if it is CPU or GPU.\n",
    "\n",
    "![instance_type.png](instance_type.png)\n",
    "\n",
    "If the instance type is CPU, you can change it by clicking *Stop Instance*, then the instance type displayed to get a drop-down list. Select a GPU instance and start up the Notebook again.\n",
    "\n",
    "For help with instances, see the Gradient documentation on [instance types](https://docs.paperspace.com/gradient/more/instance-types) or [starting a Gradient Notebook](https://docs.paperspace.com/gradient/explore-train-deploy/notebooks)."
   ]
  },
  {
   "cell_type": "markdown",
   "metadata": {
    "gradient": {
     "editing": false,
     "id": "8d38fb64-ae88-4526-95be-ccc99c8d9b02",
     "kernelId": "4ec6f3b2-2cb0-4819-a113-54a829d000d3"
    }
   },
   "source": [
    "## Setup\n",
    "### Install ipywidgets"
   ]
  },
  {
   "cell_type": "code",
   "execution_count": null,
   "metadata": {},
   "outputs": [],
   "source": [
    "!pip install ipywidgets widgetsnbextension\n",
    "!jupyter nbextension enable --py widgetsnbextension"
   ]
  },
  {
   "cell_type": "markdown",
   "metadata": {
    "gradient": {
     "editing": false,
     "id": "c35d19b6-6646-4657-947e-190e2d43e795",
     "kernelId": "4ec6f3b2-2cb0-4819-a113-54a829d000d3"
    },
    "id": "eOsVdx6GGHmU"
   },
   "source": [
    "## Download and install TensorFlow 2. \n",
    "See the [official TensorFlow install guide](https://www.tensorflow.org/install) for details."
   ]
  },
  {
   "cell_type": "code",
   "execution_count": null,
   "metadata": {},
   "outputs": [],
   "source": [
    "# Requires the latest pip\n",
    "!pip install --upgrade pip\n",
    "\n",
    "# Current stable release for CPU and GPU\n",
    "\n",
    "!pip install tensorflow\n",
    "\n",
    "# # Or try the preview build (unstable)\n",
    "# pip install tf-nightly"
   ]
  },
  {
   "cell_type": "code",
   "execution_count": null,
   "metadata": {
    "gradient": {
     "editing": false,
     "id": "73bc89a1-6712-410e-8749-99dfa812cb93",
     "kernelId": "4ec6f3b2-2cb0-4819-a113-54a829d000d3"
    },
    "id": "0trJmd6DjqBZ"
   },
   "outputs": [],
   "source": [
    "import tensorflow as tf"
   ]
  },
  {
   "cell_type": "markdown",
   "metadata": {
    "gradient": {
     "editing": false,
     "id": "630f77ca-3acc-4e8a-9533-3d6413207d33",
     "kernelId": "4ec6f3b2-2cb0-4819-a113-54a829d000d3"
    }
   },
   "source": [
    "We will use the general TensorFlow subclassing interface followed by the GradientTape formulation of training, so some Keras functionality can be imported for shorthand."
   ]
  },
  {
   "cell_type": "code",
   "execution_count": null,
   "metadata": {
    "gradient": {
     "editing": false,
     "id": "c9acffc0-4987-4b65-b668-74d80fb82f49",
     "kernelId": "4ec6f3b2-2cb0-4819-a113-54a829d000d3"
    }
   },
   "outputs": [],
   "source": [
    "from tensorflow.keras.layers import Dense, Flatten, Conv2D\n",
    "from tensorflow.keras import Model"
   ]
  },
  {
   "cell_type": "markdown",
   "metadata": {
    "gradient": {
     "editing": false,
     "id": "d7ddf3ba-0288-4557-a38f-b82fe976170e",
     "kernelId": "4ec6f3b2-2cb0-4819-a113-54a829d000d3"
    }
   },
   "source": [
    "Provided that you have started this Notebook on a [Gradient GPU instance](https://docs.paperspace.com/gradient/more/instance-types), Gradient will see the GPU(s) and TensorFlow will utilize it/them.\n",
    "\n",
    "We can list the available GPU(s) to check that TensorFlow is seeing them."
   ]
  },
  {
   "cell_type": "code",
   "execution_count": null,
   "metadata": {
    "gradient": {
     "editing": false,
     "id": "4dd0b4d4-2092-4579-aeb6-17d79ccce787",
     "kernelId": "4ec6f3b2-2cb0-4819-a113-54a829d000d3"
    }
   },
   "outputs": [],
   "source": [
    "gpus = tf.config.list_physical_devices('GPU')\n",
    "gpus"
   ]
  },
  {
   "cell_type": "markdown",
   "metadata": {
    "gradient": {
     "editing": false,
     "id": "069816c5-92cb-42cd-ae6e-8735d396fd22",
     "kernelId": "4ec6f3b2-2cb0-4819-a113-54a829d000d3"
    }
   },
   "source": [
    "By default, TensorFlow allocates all the memory on a GPU to the model being run. This is fine, until, for example, you run a container like this one that has more than one `.ipynb` notebook on it. Then the second notebook's model may fail due to the GPU being out of memory.\n",
    "\n",
    "We can help with this by setting the memory used to [grow as needed](https://www.tensorflow.org/guide/gpu#limiting_gpu_memory_growth) rather than being allocated all at once at the start. This doesn't *solve* the underlying issue, but mitigates it such that the notebooks can be run several times before memory gets low.\n",
    "\n",
    "A better solution is to allocate N logical GPUs for N notebooks, which we may add here."
   ]
  },
  {
   "cell_type": "code",
   "execution_count": null,
   "metadata": {
    "gradient": {
     "editing": false,
     "id": "b28bdb2e-572b-4942-baa4-ee14703849ec",
     "kernelId": "4ec6f3b2-2cb0-4819-a113-54a829d000d3"
    }
   },
   "outputs": [],
   "source": [
    "if gpus:\n",
    "    try:\n",
    "        # Currently, memory growth needs to be the same across GPUs\n",
    "        for gpu in gpus:\n",
    "            tf.config.experimental.set_memory_growth(gpu, True)\n",
    "        logical_gpus = tf.config.list_logical_devices('GPU')\n",
    "        print(len(gpus), \"Physical GPUs,\", len(logical_gpus), \"Logical GPUs\")\n",
    "    except RuntimeError as e:\n",
    "        # Memory growth must be set before GPUs have been initialized\n",
    "        print(e)"
   ]
  },
  {
   "cell_type": "markdown",
   "metadata": {
    "gradient": {
     "editing": false,
     "id": "451ee749-78cf-40a7-9701-a4129631f3f7",
     "kernelId": "4ec6f3b2-2cb0-4819-a113-54a829d000d3"
    }
   },
   "source": [
    "## Load and prepare the data"
   ]
  },
  {
   "cell_type": "markdown",
   "metadata": {
    "gradient": {
     "editing": false,
     "id": "754b2b6a-dbc7-4d22-8070-abf97ca362fd",
     "kernelId": "4ec6f3b2-2cb0-4819-a113-54a829d000d3"
    },
    "id": "7NAbSZiaoJ4z"
   },
   "source": [
    "The model shows multi-class classification of the handwritten digits 0-9 in the [MNIST dataset](http://yann.lecun.com/exdb/mnist/)."
   ]
  },
  {
   "cell_type": "code",
   "execution_count": null,
   "metadata": {
    "gradient": {
     "editing": false,
     "id": "336f275a-a0be-4876-b3f4-75a61a56e2c3",
     "kernelId": "4ec6f3b2-2cb0-4819-a113-54a829d000d3"
    },
    "id": "JqFRS6K07jJs"
   },
   "outputs": [],
   "source": [
    "mnist = tf.keras.datasets.mnist\n",
    "\n",
    "(x_train, y_train), (x_test, y_test) = mnist.load_data()\n",
    "x_train, x_test = x_train / 255.0, x_test / 255.0\n",
    "\n",
    "# Add a channels dimension\n",
    "x_train = x_train[..., tf.newaxis].astype(\"float32\")\n",
    "x_test = x_test[..., tf.newaxis].astype(\"float32\")"
   ]
  },
  {
   "cell_type": "markdown",
   "metadata": {
    "gradient": {
     "editing": false,
     "id": "9fc8675c-4105-427e-8281-aac4d86d31cc",
     "kernelId": "4ec6f3b2-2cb0-4819-a113-54a829d000d3"
    },
    "id": "k1Evqx0S22r_"
   },
   "source": [
    "Use `tf.data` to batch and shuffle the dataset."
   ]
  },
  {
   "cell_type": "code",
   "execution_count": null,
   "metadata": {
    "gradient": {
     "editing": false,
     "id": "4ad386a8-d62e-49ef-b258-96d373432b0f",
     "kernelId": "4ec6f3b2-2cb0-4819-a113-54a829d000d3"
    },
    "id": "8Iu_quO024c2"
   },
   "outputs": [],
   "source": [
    "train_ds = tf.data.Dataset.from_tensor_slices(\n",
    "    (x_train, y_train)).shuffle(10000).batch(32)\n",
    "\n",
    "test_ds = tf.data.Dataset.from_tensor_slices((x_test, y_test)).batch(32)"
   ]
  },
  {
   "cell_type": "markdown",
   "metadata": {
    "gradient": {
     "editing": false,
     "id": "aeb6ef15-83d7-4b29-8f12-a6b283def2a0",
     "kernelId": "4ec6f3b2-2cb0-4819-a113-54a829d000d3"
    }
   },
   "source": [
    "## Build and train the model"
   ]
  },
  {
   "cell_type": "markdown",
   "metadata": {
    "gradient": {
     "editing": false,
     "id": "7a6fd3f7-b657-4a76-9311-ab9640ab8d78",
     "kernelId": "4ec6f3b2-2cb0-4819-a113-54a829d000d3"
    },
    "id": "BPZ68wASog_I"
   },
   "source": [
    "Build the `tf.keras` model using the Keras [model subclassing API](https://www.tensorflow.org/guide/keras#model_subclassing)."
   ]
  },
  {
   "cell_type": "code",
   "execution_count": null,
   "metadata": {
    "gradient": {
     "editing": false,
     "id": "4148a2c3-5f39-4c6e-be87-1d171d85a6a3",
     "kernelId": "4ec6f3b2-2cb0-4819-a113-54a829d000d3"
    },
    "id": "h3IKyzTCDNGo"
   },
   "outputs": [],
   "source": [
    "class MyModel(Model):\n",
    "    def __init__(self):\n",
    "        super(MyModel, self).__init__()\n",
    "        self.conv1 = Conv2D(32, 3, activation='relu')\n",
    "        self.flatten = Flatten()\n",
    "        self.d1 = Dense(128, activation='relu')\n",
    "        self.d2 = Dense(10)\n",
    "\n",
    "    def call(self, x):\n",
    "        x = self.conv1(x)\n",
    "        x = self.flatten(x)\n",
    "        x = self.d1(x)\n",
    "        return self.d2(x)\n",
    "\n",
    "# Create an instance of the model\n",
    "model = MyModel()"
   ]
  },
  {
   "cell_type": "markdown",
   "metadata": {
    "gradient": {
     "editing": false,
     "id": "76f3ef06-f1c2-4ebd-b836-aee7880ad1ba",
     "kernelId": "4ec6f3b2-2cb0-4819-a113-54a829d000d3"
    },
    "id": "uGih-c2LgbJu"
   },
   "source": [
    "Choose an optimizer and loss function for training."
   ]
  },
  {
   "cell_type": "code",
   "execution_count": null,
   "metadata": {
    "gradient": {
     "editing": false,
     "id": "fc5bc5d4-ade2-4799-bb4b-a1dea3492db0",
     "kernelId": "4ec6f3b2-2cb0-4819-a113-54a829d000d3"
    },
    "id": "u48C9WQ774n4"
   },
   "outputs": [],
   "source": [
    "loss_object = tf.keras.losses.SparseCategoricalCrossentropy(from_logits=True)\n",
    "\n",
    "optimizer = tf.keras.optimizers.Adam()"
   ]
  },
  {
   "cell_type": "markdown",
   "metadata": {
    "gradient": {
     "editing": false,
     "id": "85895222-0a17-43ee-8f61-bed6da68bb51",
     "kernelId": "4ec6f3b2-2cb0-4819-a113-54a829d000d3"
    },
    "id": "JB6A1vcigsIe"
   },
   "source": [
    "Select metrics to measure the loss and the accuracy of the model. These metrics accumulate the values over epochs and then print the overall result."
   ]
  },
  {
   "cell_type": "code",
   "execution_count": null,
   "metadata": {
    "gradient": {
     "editing": false,
     "id": "54cb7f54-cc96-477e-b687-bff4354c835b",
     "kernelId": "4ec6f3b2-2cb0-4819-a113-54a829d000d3"
    },
    "id": "N0MqHFb4F_qn"
   },
   "outputs": [],
   "source": [
    "train_loss = tf.keras.metrics.Mean(name='train_loss')\n",
    "train_accuracy = tf.keras.metrics.SparseCategoricalAccuracy(name='train_accuracy')\n",
    "\n",
    "test_loss = tf.keras.metrics.Mean(name='test_loss')\n",
    "test_accuracy = tf.keras.metrics.SparseCategoricalAccuracy(name='test_accuracy')"
   ]
  },
  {
   "cell_type": "markdown",
   "metadata": {
    "gradient": {
     "editing": false,
     "id": "0c259c17-9e4d-4c83-a912-17e7249d5060",
     "kernelId": "4ec6f3b2-2cb0-4819-a113-54a829d000d3"
    },
    "id": "ix4mEL65on-w"
   },
   "source": [
    "Use `tf.GradientTape` to train the model."
   ]
  },
  {
   "cell_type": "code",
   "execution_count": null,
   "metadata": {
    "gradient": {
     "editing": false,
     "id": "6dd7c400-ac21-4508-ac8e-f8cfef2c8eca",
     "kernelId": "4ec6f3b2-2cb0-4819-a113-54a829d000d3"
    }
   },
   "outputs": [],
   "source": [
    "@tf.function\n",
    "def train_step(images, labels):\n",
    "    with tf.GradientTape() as tape:\n",
    "        # training=True is only needed if there are layers with different\n",
    "        # behavior during training versus inference (e.g. Dropout)\n",
    "        predictions = model(images, training=True)\n",
    "        loss = loss_object(labels, predictions)\n",
    "    gradients = tape.gradient(loss, model.trainable_variables)\n",
    "    optimizer.apply_gradients(zip(gradients, model.trainable_variables))\n",
    "\n",
    "    train_loss(loss)\n",
    "    train_accuracy(labels, predictions)"
   ]
  },
  {
   "cell_type": "markdown",
   "metadata": {
    "gradient": {
     "editing": false,
     "id": "f4d85c02-bc03-4d57-9062-cf8892c70a3b",
     "kernelId": "4ec6f3b2-2cb0-4819-a113-54a829d000d3"
    },
    "id": "Z8YT7UmFgpjV"
   },
   "source": [
    "Test the model."
   ]
  },
  {
   "cell_type": "code",
   "execution_count": null,
   "metadata": {
    "gradient": {
     "editing": false,
     "id": "3f510f52-88cc-4a2a-aa79-1f9f16d90bf1",
     "kernelId": "4ec6f3b2-2cb0-4819-a113-54a829d000d3"
    }
   },
   "outputs": [],
   "source": [
    "@tf.function\n",
    "def test_step(images, labels):\n",
    "    # training=False is only needed if there are layers with different\n",
    "    # behavior during training versus inference (e.g. Dropout)\n",
    "    predictions = model(images, training=False)\n",
    "    t_loss = loss_object(labels, predictions)\n",
    "\n",
    "    test_loss(t_loss)\n",
    "    test_accuracy(labels, predictions)"
   ]
  },
  {
   "cell_type": "code",
   "execution_count": null,
   "metadata": {
    "gradient": {
     "editing": false,
     "id": "81568b95-e09d-4f02-80fc-3b345fa14178",
     "kernelId": "4ec6f3b2-2cb0-4819-a113-54a829d000d3"
    }
   },
   "outputs": [],
   "source": [
    "EPOCHS = 5\n",
    "\n",
    "for epoch in range(EPOCHS):\n",
    "    # Reset the metrics at the start of the next epoch\n",
    "    train_loss.reset_states()\n",
    "    train_accuracy.reset_states()\n",
    "    test_loss.reset_states()\n",
    "    test_accuracy.reset_states()\n",
    "\n",
    "    for images, labels in train_ds:\n",
    "        train_step(images, labels)\n",
    "\n",
    "    for test_images, test_labels in test_ds:\n",
    "        test_step(test_images, test_labels)\n",
    "\n",
    "    print(\n",
    "        f'Epoch {epoch + 1}, '\n",
    "        f'Loss: {train_loss.result()}, '\n",
    "        f'Accuracy: {train_accuracy.result() * 100}, '\n",
    "        f'Test Loss: {test_loss.result()}, '\n",
    "        f'Test Accuracy: {test_accuracy.result() * 100}'\n",
    "    )"
   ]
  },
  {
   "cell_type": "markdown",
   "metadata": {
    "gradient": {
     "editing": false,
     "id": "9b5e1423-0b5c-4d60-ba55-ca14ad3ff204",
     "kernelId": "4ec6f3b2-2cb0-4819-a113-54a829d000d3"
    },
    "id": "T4JfEh7kvx6m"
   },
   "source": [
    "The image classifier is now trained to ~99% accuracy on this dataset. To learn more, read the [TensorFlow tutorials](https://www.tensorflow.org/tutorials)."
   ]
  },
  {
   "cell_type": "markdown",
   "metadata": {
    "gradient": {
     "editing": false,
     "id": "75859dae-3117-49af-969f-bab9c599b58d",
     "kernelId": "4ec6f3b2-2cb0-4819-a113-54a829d000d3"
    }
   },
   "source": [
    "## Next steps\n",
    "\n",
    "To proceed with TensorFlow 2 in Gradient, you can:\n",
    "    \n",
    " - Try out the quick_start_beginner.ipynb notebook in this same container if you want to see a simpler example\n",
    " - Look at other Gradient material, such as the [tutorials](https://docs.paperspace.com/gradient/get-started/tutorials-list) and [blog](https://blog.paperspace.com)\n",
    " - Start writing your own projects, using our [documentation](https://docs.paperspace.com/gradient) when needed\n",
    " \n",
    "If you get stuck or need help, [contact support](https://support.paperspace.com), and we will be happy to assist.\n",
    "\n",
    "Good luck!"
   ]
  },
  {
   "cell_type": "markdown",
   "metadata": {
    "gradient": {
     "editing": false,
     "id": "960f72eb-1bd2-46d5-acab-60e2a8b28036",
     "kernelId": "4ec6f3b2-2cb0-4819-a113-54a829d000d3"
    },
    "id": "rX8mhOLljYeM"
   },
   "source": [
    "## Original TensorFlow copyright notice and license\n",
    "##### Copyright 2022 The TensorFlow Authors."
   ]
  },
  {
   "cell_type": "code",
   "execution_count": null,
   "metadata": {
    "cellView": "form",
    "gradient": {
     "editing": false,
     "id": "47b22ba8-7502-4426-9391-9e7c2ac1810c",
     "kernelId": "4ec6f3b2-2cb0-4819-a113-54a829d000d3"
    },
    "id": "BZSlp3DAjdYf"
   },
   "outputs": [],
   "source": [
    "#@title Licensed under the Apache License, Version 2.0 (the \"License\");\n",
    "# you may not use this file except in compliance with the License.\n",
    "# You may obtain a copy of the License at\n",
    "#\n",
    "# # https://www.apache.org/licenses/LICENSE-2.0\n",
    "#\n",
    "# Unless required by applicable law or agreed to in writing, software\n",
    "# distributed under the License is distributed on an \"AS IS\" BASIS,\n",
    "# WITHOUT WARRANTIES OR CONDITIONS OF ANY KIND, either express or implied.\n",
    "# See the License for the specific language governing permissions and\n",
    "# limitations under the License."
   ]
  }
 ],
 "metadata": {
  "accelerator": "GPU",
  "colab": {
   "collapsed_sections": [],
   "name": "advanced.ipynb",
   "toc_visible": true
  },
  "kernelspec": {
   "display_name": "Python 3",
   "language": "python",
   "name": "python3"
  },
  "language_info": {
   "codemirror_mode": {
    "name": "ipython",
    "version": 3
   },
   "file_extension": ".py",
   "mimetype": "text/x-python",
   "name": "python",
   "nbconvert_exporter": "python",
   "pygments_lexer": "ipython3",
   "version": "3.6.9"
  }
 },
 "nbformat": 4,
 "nbformat_minor": 4
}
